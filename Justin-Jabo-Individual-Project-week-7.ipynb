{
 "cells": [
  {
   "cell_type": "markdown",
   "id": "296e1530",
   "metadata": {},
   "source": [
    "Caesar's Cipher Encryption\n",
    "\n",
    "The IT team needs to comply with the companies' policies on data privacy,  \n",
    "your boss tasks you to write an algorithm to encrypt and decrypt its internal messages using Caesar's Cipher.\n",
    "\n",
    "In cryptography, a Caesar cipher, also known as shift cipher, is one of the simplest and most widely known encryption techniques. \n",
    "\n",
    "It is a type of substitution cipher in which each letter in the plaintext is replaced by a letter of some fixed number of positions down the alphabet. \n",
    "\n",
    "For example, with a left shift of 3, D would be replaced by A, E would become B, and so on. \n",
    "\n",
    "The method is named after Julius Caesar, who used it in his private correspondence.\n",
    "\n",
    "The transformation can be represented by aligning two alphabets; the cipher alphabet is the plain alphabet rotated left or right by some number of positions. \n",
    "\n",
    "For instance, here is a Caesar cipher using a left rotation of three places, equivalent to a right shift of 23 (the shift parameter is used as the key):\n",
    "\n",
    "Plain:  ABCDEFGHIJKLMNOPQRSTUVWXYZ\n",
    "Cipher: XYZABCDEFGHIJKLMNOPQRSTUVW\n",
    "\n",
    "When encrypting, a person looks up each letter of the message in the “plain” line and writes down the corresponding letter in the “cipher” line.\n",
    "\n",
    "Plaintext:  THE QUICK BROWN FOX JUMPS OVER THE LAZY DOG\n",
    "\n",
    "Ciphertext: QEB NRFZH YOLTK CLU GRJMP LSBO QEB IXWV ALD\n",
    "\n",
    "Deciphering is done in reverse, with a right shift of 3."
   ]
  },
  {
   "cell_type": "markdown",
   "id": "659d5ff6",
   "metadata": {},
   "source": [
    "CAESER CYPHER ACTIVITY \n",
    "\n",
    "#with a left shift of 3, D would be replaced by A, E would become B,\n",
    "#The transformation\n",
    "#two alphabets; the cipher alphabet is the plain alphabet rotated left or right by some number of positions\n",
    "#here is a Caesar cipher using a left rotation of three places, equivalent to a right shift of 23\n",
    "#Plain:  ABCDEFGHIJKLMNOPQRSTUVWXYZ\n",
    "#Cipher: XYZABCDEFGHIJKLMNOPQRSTUVW\n",
    "#When encrypting,\n",
    "#a person looks up each letter of the message in the “plain” text\n",
    "#and writes down the corresponding letter in the “cipher” line.\n",
    "\n",
    "\n",
    "1. Welcome the user \n",
    "2. Ask the user to enter plain text for encyption\n",
    " 2a. If plain text is upper case, perform a postive shift using the unicode/ascii value for capital letters.\n",
    " else if the plain text is lowwer case, perform a positive shift using the unicode/ ascii value for smaller letters.\n",
    " 2b. Replace the current capital/lower case by the new character.\n",
    "3. Enter the shift key example \"23\"\n",
    "\n"
   ]
  },
  {
   "cell_type": "code",
   "execution_count": null,
   "id": "a8b3bba4",
   "metadata": {},
   "outputs": [],
   "source": [
    "print (\"WELCOME TO CAESAR'S CYPHER ENCRYPTION PROGRAM\")\n",
    "print(\"*\"*45)\n",
    "\n",
    "def encrypt(text,s): \n",
    "    result = \"\" # transverse the plain text\n",
    "    for i in range(len(text)): \n",
    "        char = text[i] # Holding characters entered by the user     \n",
    "        if (char.isupper()): \n",
    "            result += chr((ord(char) + s-65) % 26 + 65) # Encrypt uppercase characters in plain text \n",
    "        elif (char.islower()): \n",
    "            result += chr((ord(char) + s-97) % 26 + 97) # Encrypt lowercase characters in plain text \n",
    "        else: \n",
    "#             result += chr((ord(char) + s - 97) % 26 + 97) # if user enters any figure it would return same. \n",
    "            result +=char\n",
    "    return result #check the above function \n",
    "text = input('Enter your message to Decrypt:  ')\n",
    "s=int(input('Enter the shift key eg. 3: '))\n",
    "print (\"Cipher Text : \" + text )\n",
    "print (f\"Shift pattern : \", s)\n",
    "print (\"Plain Text: \" + encrypt(text,s))"
   ]
  },
  {
   "cell_type": "code",
   "execution_count": null,
   "id": "376b1c07",
   "metadata": {},
   "outputs": [],
   "source": []
  },
  {
   "cell_type": "code",
   "execution_count": null,
   "id": "60f0e85f",
   "metadata": {},
   "outputs": [],
   "source": []
  },
  {
   "cell_type": "code",
   "execution_count": null,
   "id": "6913d1af",
   "metadata": {},
   "outputs": [],
   "source": []
  }
 ],
 "metadata": {
  "kernelspec": {
   "display_name": "Python 3 (ipykernel)",
   "language": "python",
   "name": "python3"
  },
  "language_info": {
   "codemirror_mode": {
    "name": "ipython",
    "version": 3
   },
   "file_extension": ".py",
   "mimetype": "text/x-python",
   "name": "python",
   "nbconvert_exporter": "python",
   "pygments_lexer": "ipython3",
   "version": "3.10.7"
  }
 },
 "nbformat": 4,
 "nbformat_minor": 5
}
